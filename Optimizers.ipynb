{
  "nbformat": 4,
  "nbformat_minor": 0,
  "metadata": {
    "colab": {
      "provenance": []
    },
    "kernelspec": {
      "name": "python3",
      "display_name": "Python 3"
    },
    "language_info": {
      "name": "python"
    }
  },
  "cells": [
    {
      "cell_type": "markdown",
      "source": [
        "# **Comparision of optimizers**"
      ],
      "metadata": {
        "id": "OpVw2_Yzdd58"
      }
    },
    {
      "cell_type": "markdown",
      "source": [
        "\n",
        "\n",
        "Dataset -Fashion MNIST datset. This dataset contains 60000 images of different clothing/apparel items"
      ],
      "metadata": {
        "id": "A9KCQlz164Nz"
      }
    },
    {
      "cell_type": "code",
      "execution_count": null,
      "metadata": {
        "id": "QBJhCe6t6ogK"
      },
      "outputs": [],
      "source": [
        "import tensorflow as tf \n",
        "from tensorflow import keras\n"
      ]
    },
    {
      "cell_type": "code",
      "source": [
        "import numpy as np \n",
        "import matplotlib.pyplot as plt"
      ],
      "metadata": {
        "id": "F5fQ7pbN7NES"
      },
      "execution_count": null,
      "outputs": []
    },
    {
      "cell_type": "code",
      "source": [
        "#Loading Dataset\n",
        "data = keras.datasets.fashion_mnist\n"
      ],
      "metadata": {
        "id": "EAwXNnbb7i_B"
      },
      "execution_count": null,
      "outputs": []
    },
    {
      "cell_type": "markdown",
      "source": [
        "***Split data into training and testing data.***"
      ],
      "metadata": {
        "id": "vWiL0z_a9n6y"
      }
    },
    {
      "cell_type": "code",
      "source": [
        "(train_images, train_labels), (test_images, test_labels) = data.load_data()"
      ],
      "metadata": {
        "id": "AvujOVL98RRS",
        "colab": {
          "base_uri": "https://localhost:8080/"
        },
        "outputId": "08441f06-3459-4a91-8649-18ab9aaacd94"
      },
      "execution_count": null,
      "outputs": [
        {
          "output_type": "stream",
          "name": "stdout",
          "text": [
            "Downloading data from https://storage.googleapis.com/tensorflow/tf-keras-datasets/train-labels-idx1-ubyte.gz\n",
            "32768/29515 [=================================] - 0s 0us/step\n",
            "40960/29515 [=========================================] - 0s 0us/step\n",
            "Downloading data from https://storage.googleapis.com/tensorflow/tf-keras-datasets/train-images-idx3-ubyte.gz\n",
            "26427392/26421880 [==============================] - 0s 0us/step\n",
            "26435584/26421880 [==============================] - 0s 0us/step\n",
            "Downloading data from https://storage.googleapis.com/tensorflow/tf-keras-datasets/t10k-labels-idx1-ubyte.gz\n",
            "16384/5148 [===============================================================================================] - 0s 0us/step\n",
            "Downloading data from https://storage.googleapis.com/tensorflow/tf-keras-datasets/t10k-images-idx3-ubyte.gz\n",
            "4423680/4422102 [==============================] - 0s 0us/step\n",
            "4431872/4422102 [==============================] - 0s 0us/step\n"
          ]
        }
      ]
    },
    {
      "cell_type": "code",
      "source": [
        "class_names = ['T-shirt/top', 'Trouser', 'Pullover', 'Dress', 'Coat',\n",
        "               'Sandal', 'Shirt', 'Sneaker', 'Bag', 'Ankle boot']"
      ],
      "metadata": {
        "id": "3RrLVgJc8Tfo"
      },
      "execution_count": null,
      "outputs": []
    },
    {
      "cell_type": "markdown",
      "source": [
        "***Pre-processing images***\n",
        "\n",
        "* Divide each image by 255. Since each image is greyscale we are simply scaling the pixel values down to make computations easier for our model.*"
      ],
      "metadata": {
        "id": "a0xHub6_-eGe"
      }
    },
    {
      "cell_type": "code",
      "source": [
        "train_images = train_images/255.0\n",
        "test_images = test_images/255.0"
      ],
      "metadata": {
        "id": "8leITYM1-0SC"
      },
      "execution_count": null,
      "outputs": []
    },
    {
      "cell_type": "code",
      "source": [
        "plt.figure(figsize=(10,10))\n",
        "for i in range(10):\n",
        "    plt.subplot(5,5,i+1)\n",
        "    plt.xticks([])\n",
        "    plt.yticks([])\n",
        "    plt.grid(False)\n",
        "    plt.imshow(train_images[i], cmap=plt.cm.binary)\n",
        "    plt.xlabel(class_names[train_labels[i]])\n",
        "plt.show()"
      ],
      "metadata": {
        "id": "zwLX43Xb_hIE",
        "outputId": "d230ba82-406d-4421-dcdb-a7712c23efc4",
        "colab": {
          "base_uri": "https://localhost:8080/",
          "height": 251
        }
      },
      "execution_count": null,
      "outputs": [
        {
          "output_type": "display_data",
          "data": {
            "text/plain": [
              "<Figure size 720x720 with 10 Axes>"
            ],
            "image/png": "[encoded data removed]"
          },
          "metadata": {}
        }
      ]
    },
    {
      "cell_type": "markdown",
      "source": [
        "***Creating Models***"
      ],
      "metadata": {
        "id": "x-Y5lLSgWI6N"
      }
    },
    {
      "cell_type": "markdown",
      "source": [
        "***Adam optimizer***"
      ],
      "metadata": {
        "id": "U8pv9fjMWias"
      }
    },
    {
      "cell_type": "code",
      "source": [
        "modeladm = keras.Sequential([\n",
        "    keras.layers.Flatten(input_shape=(28, 28)),\n",
        "    keras.layers.Dense(128, activation='relu'),\n",
        "    keras.layers.Dense(10)\n",
        "])"
      ],
      "metadata": {
        "id": "apNGBd99WO1G"
      },
      "execution_count": null,
      "outputs": []
    },
    {
      "cell_type": "markdown",
      "source": [
        "***RMS optimizer***"
      ],
      "metadata": {
        "id": "eiLqsblhWpp8"
      }
    },
    {
      "cell_type": "code",
      "source": [
        "modelrms = keras.Sequential([\n",
        "    keras.layers.Flatten(input_shape=(28, 28)),\n",
        "    keras.layers.Dense(128, activation='relu'),\n",
        "    keras.layers.Dense(10)\n",
        "])"
      ],
      "metadata": {
        "id": "XDG6I28MXO68"
      },
      "execution_count": null,
      "outputs": []
    },
    {
      "cell_type": "markdown",
      "source": [
        "***Adagrad optimizer***"
      ],
      "metadata": {
        "id": "drjmYq_zXSn5"
      }
    },
    {
      "cell_type": "code",
      "source": [
        "modeladgrad = keras.Sequential([\n",
        "    keras.layers.Flatten(input_shape=(28, 28)),\n",
        "    keras.layers.Dense(128, activation='relu'),\n",
        "    keras.layers.Dense(10)\n",
        "])"
      ],
      "metadata": {
        "id": "7U0fTjhTXX4w"
      },
      "execution_count": null,
      "outputs": []
    },
    {
      "cell_type": "markdown",
      "source": [
        "***SGD optimizer***"
      ],
      "metadata": {
        "id": "0u-K6rW3Xwz1"
      }
    },
    {
      "cell_type": "code",
      "source": [
        "modelsgd = keras.Sequential([\n",
        "    keras.layers.Flatten(input_shape=(28, 28)),\n",
        "    keras.layers.Dense(128, activation='relu'),\n",
        "    keras.layers.Dense(10)\n",
        "])"
      ],
      "metadata": {
        "id": "2RsjsytIX_LG"
      },
      "execution_count": null,
      "outputs": []
    },
    {
      "cell_type": "markdown",
      "source": [
        "***SGDM optimizer***"
      ],
      "metadata": {
        "id": "JTvD3O55YKSQ"
      }
    },
    {
      "cell_type": "code",
      "source": [
        "modelsgdm = keras.Sequential([\n",
        "    keras.layers.Flatten(input_shape=(28, 28)),\n",
        "    keras.layers.Dense(128, activation='relu'),\n",
        "    keras.layers.Dense(10)\n",
        "])"
      ],
      "metadata": {
        "id": "cmw4XLrOYPBO"
      },
      "execution_count": null,
      "outputs": []
    },
    {
      "cell_type": "markdown",
      "source": [
        "***Compiling the model with diffrent optimizers***"
      ],
      "metadata": {
        "id": "oKMsTR7wYz0y"
      }
    },
    {
      "cell_type": "code",
      "source": [
        "modeladm.compile(optimizer='adam',\n",
        "              loss=tf.keras.losses.SparseCategoricalCrossentropy(from_logits=True),\n",
        "              metrics=['accuracy'])\n",
        "modelrms.compile(optimizer='RMSprop',\n",
        "              loss=tf.keras.losses.SparseCategoricalCrossentropy(from_logits=True),\n",
        "              metrics=['accuracy'])\n",
        "modeladgrad.compile(optimizer='adagrad',\n",
        "              loss=tf.keras.losses.SparseCategoricalCrossentropy(from_logits=True),\n",
        "              metrics=['accuracy'])\n",
        "modelsgd.compile(optimizer='SGD',\n",
        "              loss=tf.keras.losses.SparseCategoricalCrossentropy(from_logits=True),\n",
        "              metrics=['accuracy'])\n",
        "opt = tf.keras.optimizers.SGD(learning_rate=0.1, momentum=0.9)\n",
        "modelsgdm.compile(optimizer=opt,\n",
        "              loss=tf.keras.losses.SparseCategoricalCrossentropy(from_logits=True),\n",
        "              metrics=['accuracy'])"
      ],
      "metadata": {
        "id": "kTYvMgNrY3PI"
      },
      "execution_count": null,
      "outputs": []
    },
    {
      "cell_type": "markdown",
      "source": [
        "***Fitting the model***"
      ],
      "metadata": {
        "id": "_MmCcCrlZm1_"
      }
    },
    {
      "cell_type": "markdown",
      "source": [
        "***SGD***"
      ],
      "metadata": {
        "id": "KGRzNfz5Z0pS"
      }
    },
    {
      "cell_type": "code",
      "source": [
        "hist4=modelsgd.fit(train_images, train_labels, epochs=10)"
      ],
      "metadata": {
        "colab": {
          "base_uri": "https://localhost:8080/"
        },
        "id": "mia2v_pMZ0CS",
        "outputId": "4a31c7c0-56d1-4b8d-a00b-9fcd93cb69fe"
      },
      "execution_count": null,
      "outputs": [
        {
          "output_type": "stream",
          "name": "stdout",
          "text": [
            "Epoch 1/10\n",
            "1875/1875 [==============================] - 3s 2ms/step - loss: 0.7472 - accuracy: 0.7574\n",
            "Epoch 2/10\n",
            "1875/1875 [==============================] - 5s 3ms/step - loss: 0.5150 - accuracy: 0.8242\n",
            "Epoch 3/10\n",
            "1875/1875 [==============================] - 5s 3ms/step - loss: 0.4704 - accuracy: 0.8384\n",
            "Epoch 4/10\n",
            "1875/1875 [==============================] - 5s 3ms/step - loss: 0.4458 - accuracy: 0.8454\n",
            "Epoch 5/10\n",
            "1875/1875 [==============================] - 4s 2ms/step - loss: 0.4277 - accuracy: 0.8509\n",
            "Epoch 6/10\n",
            "1875/1875 [==============================] - 3s 1ms/step - loss: 0.4140 - accuracy: 0.8564\n",
            "Epoch 7/10\n",
            "1875/1875 [==============================] - 3s 1ms/step - loss: 0.4029 - accuracy: 0.8593\n",
            "Epoch 8/10\n",
            "1875/1875 [==============================] - 3s 1ms/step - loss: 0.3927 - accuracy: 0.8625\n",
            "Epoch 9/10\n",
            "1875/1875 [==============================] - 3s 1ms/step - loss: 0.3841 - accuracy: 0.8666\n",
            "Epoch 10/10\n",
            "1875/1875 [==============================] - 3s 1ms/step - loss: 0.3759 - accuracy: 0.8687\n"
          ]
        }
      ]
    },
    {
      "cell_type": "markdown",
      "source": [
        "***SGDM***"
      ],
      "metadata": {
        "id": "y8Au8sc6amz2"
      }
    },
    {
      "cell_type": "code",
      "source": [
        "hist5=modelsgdm.fit(train_images, train_labels, epochs=10)"
      ],
      "metadata": {
        "colab": {
          "base_uri": "https://localhost:8080/"
        },
        "id": "echqFpwHafo9",
        "outputId": "23400f1f-d47b-4b2d-a277-50418ebdf572"
      },
      "execution_count": null,
      "outputs": [
        {
          "output_type": "stream",
          "name": "stdout",
          "text": [
            "Epoch 1/10\n",
            "1875/1875 [==============================] - 3s 2ms/step - loss: 0.8221 - accuracy: 0.6837\n",
            "Epoch 2/10\n",
            "1875/1875 [==============================] - 3s 2ms/step - loss: 0.7640 - accuracy: 0.7063\n",
            "Epoch 3/10\n",
            "1875/1875 [==============================] - 3s 2ms/step - loss: 0.7269 - accuracy: 0.7189\n",
            "Epoch 4/10\n",
            "1875/1875 [==============================] - 3s 2ms/step - loss: 0.7580 - accuracy: 0.7138\n",
            "Epoch 5/10\n",
            "1875/1875 [==============================] - 3s 2ms/step - loss: 0.6855 - accuracy: 0.7276\n",
            "Epoch 6/10\n",
            "1875/1875 [==============================] - 3s 2ms/step - loss: 0.7389 - accuracy: 0.7122\n",
            "Epoch 7/10\n",
            "1875/1875 [==============================] - 3s 2ms/step - loss: 0.7793 - accuracy: 0.7096\n",
            "Epoch 8/10\n",
            "1875/1875 [==============================] - 3s 2ms/step - loss: 0.7708 - accuracy: 0.6950\n",
            "Epoch 9/10\n",
            "1875/1875 [==============================] - 3s 1ms/step - loss: 0.7464 - accuracy: 0.7235\n",
            "Epoch 10/10\n",
            "1875/1875 [==============================] - 3s 2ms/step - loss: 0.6930 - accuracy: 0.7480\n"
          ]
        }
      ]
    },
    {
      "cell_type": "markdown",
      "source": [
        "***Adgrad***"
      ],
      "metadata": {
        "id": "gDeiwddVawR6"
      }
    },
    {
      "cell_type": "code",
      "source": [
        "hist3=modeladgrad.fit(train_images, train_labels, epochs=10)"
      ],
      "metadata": {
        "colab": {
          "base_uri": "https://localhost:8080/"
        },
        "id": "ymTEfwjyayvT",
        "outputId": "35591c27-db7d-4262-c3e9-65234ddb1c55"
      },
      "execution_count": null,
      "outputs": [
        {
          "output_type": "stream",
          "name": "stdout",
          "text": [
            "Epoch 1/10\n",
            "1875/1875 [==============================] - 3s 2ms/step - loss: 1.0634 - accuracy: 0.6664\n",
            "Epoch 2/10\n",
            "1875/1875 [==============================] - 3s 2ms/step - loss: 0.7188 - accuracy: 0.7696\n",
            "Epoch 3/10\n",
            "1875/1875 [==============================] - 3s 2ms/step - loss: 0.6452 - accuracy: 0.7926\n",
            "Epoch 4/10\n",
            "1875/1875 [==============================] - 3s 2ms/step - loss: 0.6054 - accuracy: 0.8047\n",
            "Epoch 5/10\n",
            "1875/1875 [==============================] - 3s 2ms/step - loss: 0.5792 - accuracy: 0.8122\n",
            "Epoch 6/10\n",
            "1875/1875 [==============================] - 4s 2ms/step - loss: 0.5603 - accuracy: 0.8173\n",
            "Epoch 7/10\n",
            "1875/1875 [==============================] - 4s 2ms/step - loss: 0.5455 - accuracy: 0.8213\n",
            "Epoch 8/10\n",
            "1875/1875 [==============================] - 4s 2ms/step - loss: 0.5338 - accuracy: 0.8245\n",
            "Epoch 9/10\n",
            "1875/1875 [==============================] - 4s 2ms/step - loss: 0.5238 - accuracy: 0.8270\n",
            "Epoch 10/10\n",
            "1875/1875 [==============================] - 3s 2ms/step - loss: 0.5154 - accuracy: 0.8297\n"
          ]
        }
      ]
    },
    {
      "cell_type": "markdown",
      "source": [
        "***RMS prop***"
      ],
      "metadata": {
        "id": "2FFiiM_dbE8H"
      }
    },
    {
      "cell_type": "code",
      "source": [
        "hist2=modelrms.fit(train_images, train_labels, epochs=10)"
      ],
      "metadata": {
        "colab": {
          "base_uri": "https://localhost:8080/"
        },
        "id": "v7RoCNsUbHfW",
        "outputId": "7c01953c-1a03-4532-f7ca-8ac500e0e295"
      },
      "execution_count": null,
      "outputs": [
        {
          "output_type": "stream",
          "name": "stdout",
          "text": [
            "Epoch 1/10\n",
            "1875/1875 [==============================] - 4s 2ms/step - loss: 0.5047 - accuracy: 0.8207\n",
            "Epoch 2/10\n",
            "1875/1875 [==============================] - 4s 2ms/step - loss: 0.3780 - accuracy: 0.8646\n",
            "Epoch 3/10\n",
            "1875/1875 [==============================] - 4s 2ms/step - loss: 0.3480 - accuracy: 0.8762\n",
            "Epoch 4/10\n",
            "1875/1875 [==============================] - 4s 2ms/step - loss: 0.3308 - accuracy: 0.8830\n",
            "Epoch 5/10\n",
            "1875/1875 [==============================] - 4s 2ms/step - loss: 0.3192 - accuracy: 0.8880\n",
            "Epoch 6/10\n",
            "1875/1875 [==============================] - 4s 2ms/step - loss: 0.3086 - accuracy: 0.8922\n",
            "Epoch 7/10\n",
            "1875/1875 [==============================] - 4s 2ms/step - loss: 0.3032 - accuracy: 0.8956\n",
            "Epoch 8/10\n",
            "1875/1875 [==============================] - 4s 2ms/step - loss: 0.2977 - accuracy: 0.8974\n",
            "Epoch 9/10\n",
            "1875/1875 [==============================] - 4s 2ms/step - loss: 0.2912 - accuracy: 0.8997\n",
            "Epoch 10/10\n",
            "1875/1875 [==============================] - 4s 2ms/step - loss: 0.2850 - accuracy: 0.9022\n"
          ]
        }
      ]
    },
    {
      "cell_type": "markdown",
      "source": [
        "***Adam***"
      ],
      "metadata": {
        "id": "Ktoq7jbDbRk3"
      }
    },
    {
      "cell_type": "code",
      "source": [
        "hist1=modeladm.fit(train_images, train_labels, epochs=10)"
      ],
      "metadata": {
        "colab": {
          "base_uri": "https://localhost:8080/"
        },
        "id": "N510a7BFbU-h",
        "outputId": "7e75e827-c0b8-488b-bab9-c62ec07c9fed"
      },
      "execution_count": null,
      "outputs": [
        {
          "output_type": "stream",
          "name": "stdout",
          "text": [
            "Epoch 1/10\n",
            "1875/1875 [==============================] - 4s 2ms/step - loss: 0.4981 - accuracy: 0.8243\n",
            "Epoch 2/10\n",
            "1875/1875 [==============================] - 3s 2ms/step - loss: 0.3755 - accuracy: 0.8654\n",
            "Epoch 3/10\n",
            "1875/1875 [==============================] - 3s 2ms/step - loss: 0.3387 - accuracy: 0.8766\n",
            "Epoch 4/10\n",
            "1875/1875 [==============================] - 3s 2ms/step - loss: 0.3137 - accuracy: 0.8852\n",
            "Epoch 5/10\n",
            "1875/1875 [==============================] - 3s 2ms/step - loss: 0.2957 - accuracy: 0.8911\n",
            "Epoch 6/10\n",
            "1875/1875 [==============================] - 3s 2ms/step - loss: 0.2815 - accuracy: 0.8960\n",
            "Epoch 7/10\n",
            "1875/1875 [==============================] - 3s 2ms/step - loss: 0.2697 - accuracy: 0.9013\n",
            "Epoch 8/10\n",
            "1875/1875 [==============================] - 3s 2ms/step - loss: 0.2590 - accuracy: 0.9032\n",
            "Epoch 9/10\n",
            "1875/1875 [==============================] - 3s 2ms/step - loss: 0.2497 - accuracy: 0.9065\n",
            "Epoch 10/10\n",
            "1875/1875 [==============================] - 3s 2ms/step - loss: 0.2412 - accuracy: 0.9100\n"
          ]
        }
      ]
    },
    {
      "cell_type": "markdown",
      "source": [
        "***Plotting accuracies with respect to epochs***"
      ],
      "metadata": {
        "id": "niOOG1nzbrcF"
      }
    },
    {
      "cell_type": "code",
      "source": [
        "ep=np.arange(1,11,1)"
      ],
      "metadata": {
        "id": "WhgwAQhnbxWj"
      },
      "execution_count": null,
      "outputs": []
    },
    {
      "cell_type": "code",
      "source": [
        "acc1=hist1.history['accuracy']\n",
        "acc2=hist2.history['accuracy']\n",
        "acc3=hist3.history['accuracy']\n",
        "acc4=hist4.history['accuracy']\n",
        "acc5=hist5.history['accuracy']\n",
        "list_of_tuples = list(zip(ep,acc1,acc2,acc3,acc4,acc5))"
      ],
      "metadata": {
        "id": "ojIyE4KHb3H4"
      },
      "execution_count": null,
      "outputs": []
    },
    {
      "cell_type": "code",
      "source": [
        "import pandas as pd"
      ],
      "metadata": {
        "id": "MP8GFvG_cBQa"
      },
      "execution_count": null,
      "outputs": []
    },
    {
      "cell_type": "code",
      "source": [
        "df = pd.DataFrame(list_of_tuples, columns = ['Epoch', 'Adam','RMS','Adagrad','SGD','SGDM'])"
      ],
      "metadata": {
        "id": "_9pzRPUtb80o"
      },
      "execution_count": null,
      "outputs": []
    },
    {
      "cell_type": "code",
      "source": [
        "df.index = df['Epoch']\n",
        "df.plot(figsize=(8, 5))\n",
        "plt.grid(True)\n",
        "plt.gca().set_ylim(.7, .95) # set the vertical range to [0-1]\n",
        "plt.show()"
      ],
      "metadata": {
        "colab": {
          "base_uri": "https://localhost:8080/",
          "height": 338
        },
        "id": "YWd45vTEcGvJ",
        "outputId": "c4135267-6f2b-491d-e554-6871d984d596"
      },
      "execution_count": null,
      "outputs": [
        {
          "output_type": "display_data",
          "data": {
            "text/plain": [
              "<Figure size 576x360 with 1 Axes>"
            ],
            "image/png": "[encoded data removed]"
          },
          "metadata": {
            "needs_background": "light"
          }
        }
      ]
    },
    {
      "cell_type": "markdown",
      "source": [
        "***Validation using test set***"
      ],
      "metadata": {
        "id": "HOxcaXwUdKvN"
      }
    },
    {
      "cell_type": "code",
      "source": [
        "modeladm.evaluate(test_images, test_labels)\n",
        "modelrms.evaluate(test_images, test_labels)\n",
        "modeladgrad.evaluate(test_images, test_labels)\n",
        "modelsgd.evaluate(test_images, test_labels)"
      ],
      "metadata": {
        "colab": {
          "base_uri": "https://localhost:8080/"
        },
        "id": "4hY5JwoXcrdI",
        "outputId": "81fde07f-4a1e-4e83-bcb7-53ded5225b86"
      },
      "execution_count": null,
      "outputs": [
        {
          "output_type": "stream",
          "name": "stdout",
          "text": [
            "313/313 [==============================] - 0s 993us/step - loss: 0.3298 - accuracy: 0.8821\n",
            "313/313 [==============================] - 0s 1ms/step - loss: 0.4014 - accuracy: 0.8755\n",
            "313/313 [==============================] - 0s 1ms/step - loss: 0.5379 - accuracy: 0.8183\n",
            "313/313 [==============================] - 0s 1ms/step - loss: 0.4129 - accuracy: 0.8522\n"
          ]
        },
        {
          "output_type": "execute_result",
          "data": {
            "text/plain": [
              "[0.4128674864768982, 0.8521999716758728]"
            ]
          },
          "metadata": {},
          "execution_count": 24
        }
      ]
    },
    {
      "cell_type": "markdown",
      "source": [
        "***From the above graph of accuracies vs epochs Ada***"
      ],
      "metadata": {
        "id": "EKEA9yP8eZxj"
      }
    }
  ]
}